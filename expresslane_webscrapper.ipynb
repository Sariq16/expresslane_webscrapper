{
 "cells": [
  {
   "cell_type": "markdown",
   "id": "9217a81e",
   "metadata": {},
   "source": [
    "# ExpressLane_WebScrapper"
   ]
  },
  {
   "cell_type": "markdown",
   "id": "bf343743",
   "metadata": {},
   "source": [
    "The script is the solution for the problem statement provided in the final technical round of MapUp hiring process, who are transforming mapping into a practical decision-making tool for commuters, commercial transporters, city planners and mobility providers. In the below code I have used python to scrape the toll data. Firstly, Since the toll price values are dynamic in nature, I have accessed the xhr requests of the webpage and scrapped the data using simple python libraries like pandas and requests. After we read the to pandas dataframe and load it to CSV file."
   ]
  },
  {
   "cell_type": "code",
   "execution_count": 1,
   "id": "2039dfac",
   "metadata": {},
   "outputs": [],
   "source": [
    "#importing neccessary libraries\n",
    "\n",
    "import pandas as pd\n",
    "import requests\n",
    "\n",
    "#loading the json object \n",
    "\n",
    "json_object = requests.get('https://www.expresslanes.com/maps-api/infra-price-confirmed-all').json()['response']\n",
    "\n",
    "#Converting the json object to a python dictionary to read it as a dataframe\n",
    "\n",
    "df = pd.DataFrame.from_dict(json_object)\n",
    "\n",
    "#cleaning the dataframe\n",
    "\n",
    "df['direction'] = df['direction'].replace(['N','S'],['NB','SB']) \n",
    "\n",
    "\n",
    "\n",
    "#final output dataframe\n",
    "\n",
    "output_df =  pd.DataFrame()\n",
    "\n",
    "output_df['ods'] = df['od']\n",
    "output_df['path'] = df['road']\n",
    "output_df['Direction'] = df['direction']\n",
    "output_df['status'] = df['status']\n",
    "output_df['price'] = df['price']\n",
    "output_df['time'] = df['time']\n",
    "\n",
    "#reading the final df as csv file\n",
    "\n",
    "output_df.to_csv('Output_df.csv', index = False)\n"
   ]
  },
  {
   "cell_type": "code",
   "execution_count": null,
   "id": "8e96713f",
   "metadata": {},
   "outputs": [],
   "source": []
  }
 ],
 "metadata": {
  "kernelspec": {
   "display_name": "Python 3",
   "language": "python",
   "name": "python3"
  },
  "language_info": {
   "codemirror_mode": {
    "name": "ipython",
    "version": 3
   },
   "file_extension": ".py",
   "mimetype": "text/x-python",
   "name": "python",
   "nbconvert_exporter": "python",
   "pygments_lexer": "ipython3",
   "version": "3.8.8"
  }
 },
 "nbformat": 4,
 "nbformat_minor": 5
}
